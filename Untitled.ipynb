{
 "cells": [
  {
   "cell_type": "code",
   "execution_count": 50,
   "id": "b2b0cc95",
   "metadata": {},
   "outputs": [],
   "source": [
    "import pandas as pd\n",
    "import io\n",
    "import requests\n",
    "import json\n",
    "url = \"http://localhost:8080\"\n"
   ]
  },
  {
   "cell_type": "code",
   "execution_count": 52,
   "id": "c8273572",
   "metadata": {},
   "outputs": [],
   "source": [
    "a = requests.get(url=f\"{url}/GetTask\", data=json.dumps({}))"
   ]
  },
  {
   "cell_type": "code",
   "execution_count": 53,
   "id": "16e38d89",
   "metadata": {},
   "outputs": [
    {
     "data": {
      "text/plain": [
       "b'\\x80\\x05\\x95\\x15\\x00\\x00\\x00\\x00\\x00\\x00\\x00\\x8c\\x08__main__\\x94\\x8c\\x04func\\x94\\x93\\x94.'"
      ]
     },
     "execution_count": 53,
     "metadata": {},
     "output_type": "execute_result"
    }
   ],
   "source": [
    "a.content"
   ]
  },
  {
   "cell_type": "code",
   "execution_count": 54,
   "id": "6051b6cd",
   "metadata": {},
   "outputs": [],
   "source": [
    "b = io.BytesIO(a.content)"
   ]
  },
  {
   "cell_type": "code",
   "execution_count": 21,
   "id": "058f4206",
   "metadata": {},
   "outputs": [],
   "source": [
    "import pickle, io"
   ]
  },
  {
   "cell_type": "code",
   "execution_count": 56,
   "id": "65c96f85",
   "metadata": {},
   "outputs": [
    {
     "data": {
      "text/plain": [
       "<memory at 0x11a549e80>"
      ]
     },
     "execution_count": 56,
     "metadata": {},
     "output_type": "execute_result"
    }
   ],
   "source": [
    "b.getbuffer()"
   ]
  },
  {
   "cell_type": "code",
   "execution_count": 75,
   "id": "b53efb36",
   "metadata": {},
   "outputs": [
    {
     "data": {
      "text/plain": [
       "<memory at 0x11a7cdd00>"
      ]
     },
     "execution_count": 75,
     "metadata": {},
     "output_type": "execute_result"
    }
   ],
   "source": [
    "b.getbuffer()"
   ]
  },
  {
   "cell_type": "code",
   "execution_count": 77,
   "id": "fdcc9645",
   "metadata": {},
   "outputs": [
    {
     "name": "stdout",
     "output_type": "stream",
     "text": [
      "1\n"
     ]
    }
   ],
   "source": [
    "pickle.loads(b.getbuffer())()"
   ]
  },
  {
   "cell_type": "code",
   "execution_count": 65,
   "id": "3c1c3b7f",
   "metadata": {},
   "outputs": [],
   "source": [
    "with open(\"pkl.pkl\",\"wb\") as file:\n",
    "    file.write(b.getbuffer())"
   ]
  },
  {
   "cell_type": "code",
   "execution_count": 66,
   "id": "33c3bd51",
   "metadata": {},
   "outputs": [],
   "source": [
    "with open(\"pkl.pkl\",\"rb\") as file:\n",
    "    a = pickle.load(file)"
   ]
  },
  {
   "cell_type": "code",
   "execution_count": 67,
   "id": "abf2a292",
   "metadata": {},
   "outputs": [
    {
     "name": "stdout",
     "output_type": "stream",
     "text": [
      "1\n"
     ]
    }
   ],
   "source": [
    "a()"
   ]
  },
  {
   "cell_type": "code",
   "execution_count": 42,
   "id": "bc3ce435",
   "metadata": {},
   "outputs": [],
   "source": [
    "def func():\n",
    "    print(1)"
   ]
  },
  {
   "cell_type": "code",
   "execution_count": 40,
   "id": "53cabdc1",
   "metadata": {},
   "outputs": [
    {
     "name": "stdout",
     "output_type": "stream",
     "text": [
      "1\n"
     ]
    }
   ],
   "source": [
    "func()"
   ]
  },
  {
   "cell_type": "code",
   "execution_count": 43,
   "id": "0aef011b",
   "metadata": {},
   "outputs": [],
   "source": [
    "pd.to_pickle(func,\"tt.pkl\")"
   ]
  },
  {
   "cell_type": "code",
   "execution_count": 45,
   "id": "eca05f23",
   "metadata": {},
   "outputs": [],
   "source": [
    "c = pd.read_pickle(\"tt.pkl\")"
   ]
  },
  {
   "cell_type": "code",
   "execution_count": 46,
   "id": "4d966cb0",
   "metadata": {},
   "outputs": [
    {
     "name": "stdout",
     "output_type": "stream",
     "text": [
      "1\n"
     ]
    }
   ],
   "source": [
    "c()"
   ]
  },
  {
   "cell_type": "code",
   "execution_count": 80,
   "id": "268f17b8",
   "metadata": {},
   "outputs": [
    {
     "name": "stdout",
     "output_type": "stream",
     "text": [
      "1\n"
     ]
    }
   ],
   "source": [
    "a = requests.get(url=f\"{url}/GetTask\", data=json.dumps({}))\n",
    "a = io.BytesIO(a.content)\n",
    "pick = pickle.loads(a.getbuffer())\n",
    "pick()"
   ]
  },
  {
   "cell_type": "code",
   "execution_count": null,
   "id": "e5b59c2d",
   "metadata": {},
   "outputs": [],
   "source": []
  }
 ],
 "metadata": {
  "kernelspec": {
   "display_name": "Python 3 (ipykernel)",
   "language": "python",
   "name": "python3"
  },
  "language_info": {
   "codemirror_mode": {
    "name": "ipython",
    "version": 3
   },
   "file_extension": ".py",
   "mimetype": "text/x-python",
   "name": "python",
   "nbconvert_exporter": "python",
   "pygments_lexer": "ipython3",
   "version": "3.8.9"
  }
 },
 "nbformat": 4,
 "nbformat_minor": 5
}
